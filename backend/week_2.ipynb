{
 "cells": [
  {
   "cell_type": "code",
   "execution_count": 3,
   "id": "8aaed0d5",
   "metadata": {},
   "outputs": [],
   "source": [
    "import pandas as pd"
   ]
  },
  {
   "cell_type": "code",
   "execution_count": 4,
   "id": "07f24adf",
   "metadata": {},
   "outputs": [
    {
     "name": "stderr",
     "output_type": "stream",
     "text": [
      "/tmp/ipykernel_80311/2190277541.py:4: DtypeWarning: Columns (10) have mixed types. Specify dtype option on import or set low_memory=False.\n",
      "  movies_metadata= pd.read_csv('movies_metadata.csv')\n"
     ]
    }
   ],
   "source": [
    "links = pd.read_csv('links.csv')\n",
    "keywords= pd.read_csv('keywords.csv')\n",
    "credits= pd.read_csv('credits.csv')\n",
    "movies_metadata= pd.read_csv('movies_metadata.csv')"
   ]
  },
  {
   "cell_type": "code",
   "execution_count": 5,
   "id": "885b8791",
   "metadata": {},
   "outputs": [],
   "source": [
    "links.rename(columns={'tmdbId': 'id'}, inplace=True)\n",
    "links['id'] = pd.to_numeric(links['id'], errors='coerce').astype('Int64')\n",
    "credits['id'] = pd.to_numeric(credits['id'], errors='coerce').astype('Int64')\n",
    "keywords['id'] = pd.to_numeric(keywords['id'], errors='coerce').astype('Int64')\n",
    "movies_metadata['id'] = pd.to_numeric(movies_metadata['id'], errors='coerce').astype('Int64')"
   ]
  },
  {
   "cell_type": "code",
   "execution_count": 6,
   "id": "2876a09b",
   "metadata": {},
   "outputs": [],
   "source": [
    "master_dataset = links.merge(credits, on='id', how='left')\n",
    "master_dataset = master_dataset.merge(keywords, on='id', how='left')\n",
    "master_dataset = master_dataset.merge(movies_metadata, on='id', how='left')"
   ]
  },
  {
   "cell_type": "code",
   "execution_count": 7,
   "id": "c885dc80",
   "metadata": {},
   "outputs": [],
   "source": [
    "#filtering\n",
    "valid_ids = links[links['id'].notnull()]['id'].astype('int')\n",
    "master_dataset = master_dataset[master_dataset['id'].isin(valid_ids)]"
   ]
  },
  {
   "cell_type": "code",
   "execution_count": 8,
   "id": "fcee9f66",
   "metadata": {},
   "outputs": [
    {
     "name": "stdout",
     "output_type": "stream",
     "text": [
      "Index(['movieId', 'imdbId', 'id', 'cast', 'crew', 'keywords', 'adult',\n",
      "       'belongs_to_collection', 'budget', 'genres', 'homepage', 'imdb_id',\n",
      "       'original_language', 'original_title', 'overview', 'popularity',\n",
      "       'poster_path', 'production_companies', 'production_countries',\n",
      "       'release_date', 'revenue', 'runtime', 'spoken_languages', 'status',\n",
      "       'tagline', 'title', 'video', 'vote_average', 'vote_count'],\n",
      "      dtype='object')\n"
     ]
    }
   ],
   "source": [
    "print(master_dataset.columns)"
   ]
  },
  {
   "cell_type": "code",
   "execution_count": 10,
   "id": "74228694",
   "metadata": {},
   "outputs": [
    {
     "name": "stdout",
     "output_type": "stream",
     "text": [
      "(47072, 29)\n"
     ]
    }
   ],
   "source": [
    "print(master_dataset.shape)\n",
    "master_dataset.to_csv('master_dataset.csv', index=False)"
   ]
  }
 ],
 "metadata": {
  "kernelspec": {
   "display_name": "venv",
   "language": "python",
   "name": "python3"
  },
  "language_info": {
   "codemirror_mode": {
    "name": "ipython",
    "version": 3
   },
   "file_extension": ".py",
   "mimetype": "text/x-python",
   "name": "python",
   "nbconvert_exporter": "python",
   "pygments_lexer": "ipython3",
   "version": "3.12.3"
  }
 },
 "nbformat": 4,
 "nbformat_minor": 5
}
