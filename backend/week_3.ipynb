{
 "cells": [
  {
   "cell_type": "code",
   "execution_count": 7,
   "id": "ab39f7c6-d9ba-423b-8ece-3226aa4c14e4",
   "metadata": {},
   "outputs": [],
   "source": [
    "import pandas as pd\n",
    "import numpy as np\n",
    "import matplotlib.pyplot as plt\n",
    "import ast"
   ]
  },
  {
   "cell_type": "code",
   "execution_count": 8,
   "id": "b3e3fa0f-776b-48c6-a3e0-caa08ad442d7",
   "metadata": {},
   "outputs": [
    {
     "name": "stdout",
     "output_type": "stream",
     "text": [
      "(47072, 29)\n"
     ]
    }
   ],
   "source": [
    "master_dataset = pd.read_csv('master_dataset.csv')\n",
    "print(master_dataset.shape)"
   ]
  },
  {
   "cell_type": "code",
   "execution_count": 9,
   "id": "77b73017-70c3-4ee2-a07f-ccf8d7bd596f",
   "metadata": {},
   "outputs": [],
   "source": [
    "def safe_literal_eval(data):\n",
    "    if isinstance(data, (list, dict)):\n",
    "        return data\n",
    "    if isinstance(data, str):\n",
    "        try:\n",
    "            return ast.literal_eval(data)\n",
    "        except (ValueError, SyntaxError):\n",
    "            return []\n",
    "    return []\n",
    "\n",
    "for column in ['cast', 'crew', 'keywords']:\n",
    "    master_dataset[column] = master_dataset[column].apply(safe_literal_eval)"
   ]
  },
  {
   "cell_type": "code",
   "execution_count": 10,
   "id": "61cf3cab-487b-4b5d-a5ca-3d5845594eb2",
   "metadata": {},
   "outputs": [],
   "source": [
    "def get_director(x):\n",
    "    \"\"\"\n",
    "    Extract the Name of the Director for a movie if it is present inside the job\n",
    "    \"\"\"\n",
    "    for i in x:\n",
    "        if i['job'] == 'Director':\n",
    "            return i['name']\n",
    "    return np.nan"
   ]
  },
  {
   "cell_type": "code",
   "execution_count": 11,
   "id": "8ce6e7b2-79c2-4276-aca4-fa7626a39290",
   "metadata": {},
   "outputs": [],
   "source": [
    "master_dataset['cast']      = master_dataset['cast'].apply(lambda x: [i['name'] for i in x] if isinstance(x, list) else [])\n",
    "master_dataset['cast']      = master_dataset['cast'].apply(lambda x: x[:3] if len(x) >=3 else x)\n",
    "\n",
    "master_dataset['keywords']  = master_dataset['keywords'].apply(lambda x: [i['name'] for i in x] if isinstance(x, list) else [])\n",
    "\n",
    "master_dataset['director']  = master_dataset['crew'].apply(get_director)"
   ]
  },
  {
   "cell_type": "code",
   "execution_count": 12,
   "id": "b12d0a26-5291-445d-b1d4-21af645058d0",
   "metadata": {},
   "outputs": [],
   "source": [
    "master_dataset['cast']          = master_dataset['cast'].apply(lambda x: [str.lower(i.replace(\" \", \"\")) for i in x])\n",
    "\n",
    "master_dataset['main_director'] = master_dataset['director']\n",
    "\n",
    "master_dataset['director']      = master_dataset['director'].astype('str').apply(lambda x: str.lower(x.replace(\" \", \"\")))\n",
    "master_dataset['director']      = master_dataset['director'].apply(lambda x: [x,x,x])"
   ]
  },
  {
   "cell_type": "code",
   "execution_count": 13,
   "id": "2d69e774-d2f3-4ded-9c69-8f054f6bdb47",
   "metadata": {},
   "outputs": [
    {
     "name": "stdout",
     "output_type": "stream",
     "text": [
      "keyword\n",
      "woman director      3144\n",
      "independent film    1958\n",
      "murder              1322\n",
      "based on novel       849\n",
      "musical              734\n",
      "Name: count, dtype: int64\n"
     ]
    }
   ],
   "source": [
    "s = master_dataset.apply(lambda x: pd.Series(x['keywords']),axis=1).stack().reset_index(level=1, drop=True)\n",
    "s.name = 'keyword'\n",
    "s = s.value_counts()\n",
    "print(s[:5])"
   ]
  },
  {
   "cell_type": "code",
   "execution_count": 14,
   "id": "c8969a40-d085-4abb-8eeb-13f28cebe41d",
   "metadata": {},
   "outputs": [],
   "source": [
    "s = s[s > 1]"
   ]
  },
  {
   "cell_type": "code",
   "execution_count": 15,
   "id": "785bb4b0-cdd4-4614-b7e7-d37073625965",
   "metadata": {},
   "outputs": [],
   "source": [
    "from nltk.stem.snowball import SnowballStemmer\n",
    "\n",
    "stemmer = SnowballStemmer('english')\n",
    "\n",
    "master_dataset['keywords'] = master_dataset['keywords'].apply(\n",
    "    lambda x: [stemmer.stem(i) for i in x if len(i) > 1]\n",
    ")\n",
    "\n",
    "master_dataset['keywords'] = master_dataset['keywords'].apply(\n",
    "    lambda x: [i.replace(\" \", \"\").lower() for i in x]\n",
    ")\n"
   ]
  },
  {
   "cell_type": "code",
   "execution_count": 16,
   "id": "230abf23-4e07-493e-befc-2990ad49b6ab",
   "metadata": {},
   "outputs": [
    {
     "data": {
      "text/plain": [
       "0    [jealousi, toy, boy, friendship, friend, rival...\n",
       "1    [boardgam, disappear, basedonchildren'sbook, n...\n",
       "2       [fish, bestfriend, duringcreditssting, oldmen]\n",
       "Name: keywords, dtype: object"
      ]
     },
     "execution_count": 16,
     "metadata": {},
     "output_type": "execute_result"
    }
   ],
   "source": [
    "master_dataset['keywords'].head(3)"
   ]
  },
  {
   "cell_type": "code",
   "execution_count": 17,
   "id": "63cee10d-7bff-4626-99db-de1983659d62",
   "metadata": {},
   "outputs": [],
   "source": [
    "for col in ['keywords', 'cast', 'director', 'genres']:\n",
    "    master_dataset[col] = master_dataset[col].apply(lambda x: x if isinstance(x, list) else [])\n",
    "\n",
    "master_dataset['soup'] = master_dataset['keywords'] + master_dataset['cast'] + master_dataset['director'] + master_dataset['genres']\n",
    "\n",
    "master_dataset['soup'] = master_dataset['soup'].apply(lambda x: ' '.join([str(i) for i in x]))\n"
   ]
  },
  {
   "cell_type": "code",
   "execution_count": 18,
   "id": "6d2d59e3-6d41-46d7-b33c-9cdc5c0bb587",
   "metadata": {},
   "outputs": [
    {
     "data": {
      "text/plain": [
       "0    jealousi toy boy friendship friend rivalri boy...\n",
       "1    boardgam disappear basedonchildren'sbook newho...\n",
       "2    fish bestfriend duringcreditssting oldmen walt...\n",
       "Name: soup, dtype: object"
      ]
     },
     "execution_count": 18,
     "metadata": {},
     "output_type": "execute_result"
    }
   ],
   "source": [
    "master_dataset['soup'].head(3)"
   ]
  },
  {
   "cell_type": "code",
   "execution_count": 19,
   "id": "3ec76c71-7b06-4fc7-9a68-16da5c97320b",
   "metadata": {},
   "outputs": [
    {
     "name": "stdout",
     "output_type": "stream",
     "text": [
      "Index(['movieId', 'imdbId', 'id', 'cast', 'crew', 'keywords', 'adult',\n",
      "       'belongs_to_collection', 'budget', 'genres', 'homepage', 'imdb_id',\n",
      "       'original_language', 'original_title', 'overview', 'popularity',\n",
      "       'poster_path', 'production_companies', 'production_countries',\n",
      "       'release_date', 'revenue', 'runtime', 'spoken_languages', 'status',\n",
      "       'tagline', 'title', 'video', 'vote_average', 'vote_count', 'director',\n",
      "       'main_director', 'soup'],\n",
      "      dtype='object')\n"
     ]
    }
   ],
   "source": [
    "print(master_dataset.columns)"
   ]
  },
  {
   "cell_type": "code",
   "execution_count": 20,
   "id": "2dcfbebd-bb79-4344-9840-9838197a8951",
   "metadata": {},
   "outputs": [],
   "source": [
    "master_dataset.to_csv('master_dataset_new.csv', index=False)"
   ]
  },
  {
   "cell_type": "code",
   "execution_count": null,
   "id": "44a30037-718a-4c91-ae72-fa9138ff9172",
   "metadata": {},
   "outputs": [],
   "source": []
  }
 ],
 "metadata": {
  "kernelspec": {
   "display_name": "venv",
   "language": "python",
   "name": "python3"
  },
  "language_info": {
   "codemirror_mode": {
    "name": "ipython",
    "version": 3
   },
   "file_extension": ".py",
   "mimetype": "text/x-python",
   "name": "python",
   "nbconvert_exporter": "python",
   "pygments_lexer": "ipython3",
   "version": "3.12.3"
  }
 },
 "nbformat": 4,
 "nbformat_minor": 5
}
